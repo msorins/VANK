{
 "cells": [
  {
   "cell_type": "code",
   "execution_count": 70,
   "metadata": {},
   "outputs": [
    {
     "name": "stdout",
     "output_type": "stream",
     "text": [
      "{\"Result\":\"No Approved Voiceprint Phrases for the Content Language en-US\",\"ResponseCode\":\"NAVP\",\"TimeTaken\":\"0.686s\"}\n",
      "{\"Result\":\"No Approved Voiceprint Phrases for the Content Language en-US\",\"ResponseCode\":\"NAVP\",\"TimeTaken\":\"0.736s\"}\n",
      "{\"Result\":\"No Approved Voiceprint Phrases for the Content Language en-US\",\"ResponseCode\":\"NAVP\",\"TimeTaken\":\"0.708s\"}\n"
     ]
    }
   ],
   "source": [
    "import os\n",
    "import json\n",
    "import urllib\n",
    "from VoiceIt import *\n",
    "\n",
    "class VoiceChat():\n",
    "    def __init__(self, credentials_path):\n",
    "        # Initialise credentials \n",
    "        credentials = json.load(open(credentials_path, 'r'))\n",
    "        self.Voice = VoiceIt(credentials['user_key'])\n",
    "        self.usr = credentials['usr']\n",
    "        self.pwd = credentials['pwd']\n",
    "\n",
    "    def get_url_templates(self):\n",
    "        # Url templates from a predefined path. Wav format required.\n",
    "        return ['recordings/training/%s' % f for f in os.listdir('recordings/training/') if 'rec' in f]\n",
    "\n",
    "    def auth_audio_process_path(self, url, file_format='mp4'):\n",
    "        # Downloads facebook audio from given url and the desired format which is defaulted to 'mp4'\n",
    "        urllib.urlretrieve (url, \"confirmation.%s\" % file_format)\n",
    "        sound = AudioSegment.from_file(url, file_format)\n",
    "        export_path = \"%s.wav\" % name\n",
    "        sound.export(export_path, format=\"wav\")\n",
    "        return export_path\n",
    "\n",
    "    def check_user(self):\n",
    "        # Checks user status\n",
    "        return self.Voice.getUser(self.usr, self.pwd)\n",
    "\n",
    "    def create_templates(self):\n",
    "        # Create the 3 comparison enrollments\n",
    "        templates = self.get_url_templates()\n",
    "        for url in templates:\n",
    "            response = self.Voice.createEnrollment(self.usr, self.pwd, os.getcwd() + '/' + url, \"en-US\")\n",
    "            print(response)\n",
    "\n",
    "    def authenticate(self, auth_audio_url):\n",
    "        # Authentication validation.   \n",
    "        auth_audio_path = auth_audio_process_path(auth_audio_url)\n",
    "        return self.Voice.authenticationByWavURL(self.usr, self.pwd, auth_audio_path, \"en-US\")\n",
    "        \n",
    "        \n",
    "voice = VoiceChat('credentials.json')\n",
    "voice.create_templates()"
   ]
  },
  {
   "cell_type": "code",
   "execution_count": 73,
   "metadata": {},
   "outputs": [
    {
     "data": {
      "text/plain": [
       "<VoiceIt.VoiceIt at 0x10535b940>"
      ]
     },
     "execution_count": 73,
     "metadata": {},
     "output_type": "execute_result"
    }
   ],
   "source": [
    "VoiceIt(credentials['user_key'])"
   ]
  },
  {
   "cell_type": "code",
   "execution_count": 72,
   "metadata": {},
   "outputs": [
    {
     "data": {
      "text/plain": [
       "('confirmation.mp4', <http.client.HTTPMessage at 0x105361160>)"
      ]
     },
     "execution_count": 72,
     "metadata": {},
     "output_type": "execute_result"
    }
   ],
   "source": [
    "import urllib\n",
    "\n",
    "url = 'https://cdn.fbsbx.com/v/t59.3654-21/33666348_1233467733423396_5603131540277035008_n.mp4/audioclip-1528557406000-1626.mp4?_nc_cat=0&oh=7af01294a9170c3b7e9ff9bfaef9aa71&oe=5B1E32B8'\n",
    "urllib.request.urlretrieve (url, \"confirmation.mp4\")"
   ]
  },
  {
   "cell_type": "code",
   "execution_count": 77,
   "metadata": {},
   "outputs": [],
   "source": [
    "response = myVoiceIt.getEnrollments(\"Dragos\", \"Techsylvania1\")"
   ]
  },
  {
   "cell_type": "code",
   "execution_count": 81,
   "metadata": {},
   "outputs": [
    {
     "data": {
      "text/plain": [
       "[2219759, 2219760, 2219761, 2219762]"
      ]
     },
     "execution_count": 81,
     "metadata": {},
     "output_type": "execute_result"
    }
   ],
   "source": [
    "json.loads(response)['Result']"
   ]
  },
  {
   "cell_type": "code",
   "execution_count": 90,
   "metadata": {},
   "outputs": [
    {
     "data": {
      "text/plain": [
       "'{\"ResponseCode\":\"SUC\",\"Exists\":true,\"TimeTaken\":\"0.391s\",\"Result\":\"Success\"}'"
      ]
     },
     "execution_count": 90,
     "metadata": {},
     "output_type": "execute_result"
    }
   ],
   "source": [
    "voice = VoiceIt(\"3d3900d2f44b4abfb22bfeb073335902\")\n",
    "voice.getUser(\"Dragos\", \"Techsylvania1\")"
   ]
  },
  {
   "cell_type": "code",
   "execution_count": 91,
   "metadata": {},
   "outputs": [
    {
     "data": {
      "text/plain": [
       "['{\"Result\":\"Cannot Remove EnrollmentID - Email+DeveloperID Does Not Exist\",\"ResponseCode\":\"CRE\",\"TimeTaken\":\"0.398s\"}',\n",
       " '{\"Result\":\"Cannot Remove EnrollmentID - Email+DeveloperID Does Not Exist\",\"ResponseCode\":\"CRE\",\"TimeTaken\":\"0.396s\"}',\n",
       " '{\"Result\":\"Cannot Remove EnrollmentID - Email+DeveloperID Does Not Exist\",\"ResponseCode\":\"CRE\",\"TimeTaken\":\"0.407s\"}',\n",
       " '{\"Result\":\"Cannot Remove EnrollmentID - Email+DeveloperID Does Not Exist\",\"ResponseCode\":\"CRE\",\"TimeTaken\":\"0.387s\"}']"
      ]
     },
     "execution_count": 91,
     "metadata": {},
     "output_type": "execute_result"
    }
   ],
   "source": [
    "# Delete all sessions related to an user.\n",
    "response = voice.getEnrollments(\"Dragos\", \"Techsylvania1\")\n",
    "[voice.deleteEnrollment(\"Dragos\", \"Techsylvania1\", str(s)) for s in json.loads(response)['Result']]"
   ]
  },
  {
   "cell_type": "code",
   "execution_count": 56,
   "metadata": {},
   "outputs": [
    {
     "data": {
      "text/plain": [
       "'{\"Result\":\"No Approved Voiceprint Phrases for the Content Language en-US\",\"ResponseCode\":\"NAVP\",\"TimeTaken\":\"0.758s\"}'"
      ]
     },
     "execution_count": 56,
     "metadata": {},
     "output_type": "execute_result"
    }
   ],
   "source": [
    "myVoiceIt.createEnrollment(usr, pwd, os.getcwd() + '/' + url, \"en-US\")"
   ]
  },
  {
   "cell_type": "code",
   "execution_count": null,
   "metadata": {},
   "outputs": [],
   "source": [
    "response = myVoiceIt.getEnrollments(usr, pwd)\n",
    "print(response)"
   ]
  },
  {
   "cell_type": "code",
   "execution_count": 46,
   "metadata": {},
   "outputs": [
    {
     "data": {
      "text/plain": [
       "'{\"Result\":\"Authentication failed. Need A Minimum Of (3) Enrollments In Order To Authenticate.\",\"ResponseCode\":\"ATF\",\"TimeTaken\":\"0.401s\"}'"
      ]
     },
     "execution_count": 46,
     "metadata": {},
     "output_type": "execute_result"
    }
   ],
   "source": [
    "response"
   ]
  },
  {
   "cell_type": "code",
   "execution_count": 47,
   "metadata": {},
   "outputs": [
    {
     "name": "stdout",
     "output_type": "stream",
     "text": [
      "{\"ResponseCode\":\"SUC\",\"TimeTaken\":\"0.383s\",\"Result\":[]}\n"
     ]
    }
   ],
   "source": []
  },
  {
   "cell_type": "code",
   "execution_count": null,
   "metadata": {},
   "outputs": [],
   "source": []
  }
 ],
 "metadata": {
  "kernelspec": {
   "display_name": "Python 3",
   "language": "python",
   "name": "python3"
  },
  "language_info": {
   "codemirror_mode": {
    "name": "ipython",
    "version": 3
   },
   "file_extension": ".py",
   "mimetype": "text/x-python",
   "name": "python",
   "nbconvert_exporter": "python",
   "pygments_lexer": "ipython3",
   "version": "3.6.5"
  },
  "toc": {
   "base_numbering": 1,
   "nav_menu": {},
   "number_sections": true,
   "sideBar": true,
   "skip_h1_title": false,
   "title_cell": "Table of Contents",
   "title_sidebar": "Contents",
   "toc_cell": false,
   "toc_position": {},
   "toc_section_display": true,
   "toc_window_display": false
  }
 },
 "nbformat": 4,
 "nbformat_minor": 2
}
